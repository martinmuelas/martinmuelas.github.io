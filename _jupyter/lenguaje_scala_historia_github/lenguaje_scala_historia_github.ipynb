{
 "cells": [
  {
   "cell_type": "markdown",
   "metadata": {},
   "source": [
    "### Lenguaje Scala\n",
    "Con casi 30 mil commits y una historia que abarca más de diez años, Scala es un lenguaje de programación maduro, de propósito general que recientemente se ha convertido en otro lenguaje destacado para los científicos de datos.\n",
    "\n",
    "Scala también es un proyecto de código abierto. Los proyectos de código abierto tienen la ventaja de que todos sus historiales de desarrollo (quién realizó los cambios, qué se modificó, revisiones de código, etc.) están disponibles públicamente.\n",
    "\n",
    "Vamos a leer, limpiar y visualizar el [repositorio de Scala](https://github.com/scala/scala) que se extiende por los datos de un sistema de control de versiones (Git) y un sitio de alojamiento de proyectos (GitHub). Descubriremos quién ha tenido más influencia en su desarrollo y quiénes son los expertos."
   ]
  },
  {
   "cell_type": "markdown",
   "metadata": {},
   "source": [
    "### Importando y limpiando los datos\n",
    "El conjunto de datos que utilizaremos, que ha sido minado y extraído directamente de GitHub, está compuesto por dos archivos:\n",
    "\n",
    "* `pulls.csv` contiene la información básica para cada pull request.\n",
    "* `pull_files.csv` contiene los archivos que fueron modificados por cada pull request.\n",
    "\n",
    "Vamos a cargarlos y echarles un vistazo."
   ]
  },
  {
   "cell_type": "code",
   "execution_count": 6,
   "metadata": {},
   "outputs": [
    {
     "data": {
      "text/html": [
       "<div>\n",
       "<style scoped>\n",
       "    .dataframe tbody tr th:only-of-type {\n",
       "        vertical-align: middle;\n",
       "    }\n",
       "\n",
       "    .dataframe tbody tr th {\n",
       "        vertical-align: top;\n",
       "    }\n",
       "\n",
       "    .dataframe thead th {\n",
       "        text-align: right;\n",
       "    }\n",
       "</style>\n",
       "<table border=\"1\" class=\"dataframe\">\n",
       "  <thead>\n",
       "    <tr style=\"text-align: right;\">\n",
       "      <th></th>\n",
       "      <th>pid</th>\n",
       "      <th>user</th>\n",
       "      <th>date</th>\n",
       "    </tr>\n",
       "  </thead>\n",
       "  <tbody>\n",
       "    <tr>\n",
       "      <td>0</td>\n",
       "      <td>163314316</td>\n",
       "      <td>hrhino</td>\n",
       "      <td>2018-01-16T23:29:16Z</td>\n",
       "    </tr>\n",
       "    <tr>\n",
       "      <td>1</td>\n",
       "      <td>163061502</td>\n",
       "      <td>joroKr21</td>\n",
       "      <td>2018-01-15T23:44:52Z</td>\n",
       "    </tr>\n",
       "    <tr>\n",
       "      <td>2</td>\n",
       "      <td>163057333</td>\n",
       "      <td>mkeskells</td>\n",
       "      <td>2018-01-15T23:05:06Z</td>\n",
       "    </tr>\n",
       "    <tr>\n",
       "      <td>3</td>\n",
       "      <td>162985594</td>\n",
       "      <td>lrytz</td>\n",
       "      <td>2018-01-15T15:52:39Z</td>\n",
       "    </tr>\n",
       "    <tr>\n",
       "      <td>4</td>\n",
       "      <td>162838837</td>\n",
       "      <td>zuvizudar</td>\n",
       "      <td>2018-01-14T19:16:16Z</td>\n",
       "    </tr>\n",
       "  </tbody>\n",
       "</table>\n",
       "</div>"
      ],
      "text/plain": [
       "         pid       user                  date\n",
       "0  163314316     hrhino  2018-01-16T23:29:16Z\n",
       "1  163061502   joroKr21  2018-01-15T23:44:52Z\n",
       "2  163057333  mkeskells  2018-01-15T23:05:06Z\n",
       "3  162985594      lrytz  2018-01-15T15:52:39Z\n",
       "4  162838837  zuvizudar  2018-01-14T19:16:16Z"
      ]
     },
     "execution_count": 6,
     "metadata": {},
     "output_type": "execute_result"
    }
   ],
   "source": [
    "import pandas as pd\n",
    "\n",
    "pulls = pd.read_csv('datasets/pulls.csv')\n",
    "\n",
    "pulls.head()"
   ]
  },
  {
   "cell_type": "code",
   "execution_count": 4,
   "metadata": {},
   "outputs": [
    {
     "data": {
      "text/html": [
       "<div>\n",
       "<style scoped>\n",
       "    .dataframe tbody tr th:only-of-type {\n",
       "        vertical-align: middle;\n",
       "    }\n",
       "\n",
       "    .dataframe tbody tr th {\n",
       "        vertical-align: top;\n",
       "    }\n",
       "\n",
       "    .dataframe thead th {\n",
       "        text-align: right;\n",
       "    }\n",
       "</style>\n",
       "<table border=\"1\" class=\"dataframe\">\n",
       "  <thead>\n",
       "    <tr style=\"text-align: right;\">\n",
       "      <th></th>\n",
       "      <th>pid</th>\n",
       "      <th>file</th>\n",
       "    </tr>\n",
       "  </thead>\n",
       "  <tbody>\n",
       "    <tr>\n",
       "      <td>0</td>\n",
       "      <td>163314316</td>\n",
       "      <td>test/files/pos/t5638/Among.java</td>\n",
       "    </tr>\n",
       "    <tr>\n",
       "      <td>1</td>\n",
       "      <td>163314316</td>\n",
       "      <td>test/files/pos/t5638/Usage.scala</td>\n",
       "    </tr>\n",
       "    <tr>\n",
       "      <td>2</td>\n",
       "      <td>163314316</td>\n",
       "      <td>test/files/pos/t9291.scala</td>\n",
       "    </tr>\n",
       "    <tr>\n",
       "      <td>3</td>\n",
       "      <td>163314316</td>\n",
       "      <td>test/files/run/t8348.check</td>\n",
       "    </tr>\n",
       "    <tr>\n",
       "      <td>4</td>\n",
       "      <td>163314316</td>\n",
       "      <td>test/files/run/t8348/TableColumn.java</td>\n",
       "    </tr>\n",
       "  </tbody>\n",
       "</table>\n",
       "</div>"
      ],
      "text/plain": [
       "         pid                                   file\n",
       "0  163314316        test/files/pos/t5638/Among.java\n",
       "1  163314316       test/files/pos/t5638/Usage.scala\n",
       "2  163314316             test/files/pos/t9291.scala\n",
       "3  163314316             test/files/run/t8348.check\n",
       "4  163314316  test/files/run/t8348/TableColumn.java"
      ]
     },
     "execution_count": 4,
     "metadata": {},
     "output_type": "execute_result"
    }
   ],
   "source": [
    "pull_files = pd.read_csv('datasets/pull_files.csv')\n",
    "\n",
    "pull_files.head()"
   ]
  },
  {
   "cell_type": "markdown",
   "metadata": {},
   "source": [
    "Los datos sin procesar extraídos de GitHub contienen fechas en el formato ISO8601. Sin embargo, `pandas` los importa como strings regulares. Para facilitar nuestro análisis, necesitamos convertir las cadenas en objetos `DateTime` de Python. Los objetos `DateTime` tienen la propiedad importante de que se pueden comparar y ordenar.\n",
    "\n",
    "Los tiempos de las pull request están en UTC (también conocido como Coordinated Universal Time). Los tiempos de los commits, sin embargo, se encuentran en la hora local del autor con información de zona horaria (diferencia de horas de UTC). Para facilitar las comparaciones, debemos convertir todos los tiempos a UTC."
   ]
  },
  {
   "cell_type": "code",
   "execution_count": 8,
   "metadata": {},
   "outputs": [
    {
     "data": {
      "text/html": [
       "<div>\n",
       "<style scoped>\n",
       "    .dataframe tbody tr th:only-of-type {\n",
       "        vertical-align: middle;\n",
       "    }\n",
       "\n",
       "    .dataframe tbody tr th {\n",
       "        vertical-align: top;\n",
       "    }\n",
       "\n",
       "    .dataframe thead th {\n",
       "        text-align: right;\n",
       "    }\n",
       "</style>\n",
       "<table border=\"1\" class=\"dataframe\">\n",
       "  <thead>\n",
       "    <tr style=\"text-align: right;\">\n",
       "      <th></th>\n",
       "      <th>pid</th>\n",
       "      <th>user</th>\n",
       "      <th>date</th>\n",
       "    </tr>\n",
       "  </thead>\n",
       "  <tbody>\n",
       "    <tr>\n",
       "      <td>0</td>\n",
       "      <td>163314316</td>\n",
       "      <td>hrhino</td>\n",
       "      <td>2018-01-16 23:29:16+00:00</td>\n",
       "    </tr>\n",
       "    <tr>\n",
       "      <td>1</td>\n",
       "      <td>163061502</td>\n",
       "      <td>joroKr21</td>\n",
       "      <td>2018-01-15 23:44:52+00:00</td>\n",
       "    </tr>\n",
       "    <tr>\n",
       "      <td>2</td>\n",
       "      <td>163057333</td>\n",
       "      <td>mkeskells</td>\n",
       "      <td>2018-01-15 23:05:06+00:00</td>\n",
       "    </tr>\n",
       "    <tr>\n",
       "      <td>3</td>\n",
       "      <td>162985594</td>\n",
       "      <td>lrytz</td>\n",
       "      <td>2018-01-15 15:52:39+00:00</td>\n",
       "    </tr>\n",
       "    <tr>\n",
       "      <td>4</td>\n",
       "      <td>162838837</td>\n",
       "      <td>zuvizudar</td>\n",
       "      <td>2018-01-14 19:16:16+00:00</td>\n",
       "    </tr>\n",
       "  </tbody>\n",
       "</table>\n",
       "</div>"
      ],
      "text/plain": [
       "         pid       user                      date\n",
       "0  163314316     hrhino 2018-01-16 23:29:16+00:00\n",
       "1  163061502   joroKr21 2018-01-15 23:44:52+00:00\n",
       "2  163057333  mkeskells 2018-01-15 23:05:06+00:00\n",
       "3  162985594      lrytz 2018-01-15 15:52:39+00:00\n",
       "4  162838837  zuvizudar 2018-01-14 19:16:16+00:00"
      ]
     },
     "execution_count": 8,
     "metadata": {},
     "output_type": "execute_result"
    }
   ],
   "source": [
    "pulls['date'] = pd.to_datetime(pulls['date'], utc=True)\n",
    "\n",
    "pulls.head()"
   ]
  },
  {
   "cell_type": "markdown",
   "metadata": {},
   "source": [
    "### Uniendo los DataFrames\n",
    "Los datos extraídos vienen en dos archivos separados. Unir los dos DataFrames nos facilitará el análisis de los datos en tareas futuras."
   ]
  },
  {
   "cell_type": "code",
   "execution_count": 10,
   "metadata": {},
   "outputs": [
    {
     "data": {
      "text/html": [
       "<div>\n",
       "<style scoped>\n",
       "    .dataframe tbody tr th:only-of-type {\n",
       "        vertical-align: middle;\n",
       "    }\n",
       "\n",
       "    .dataframe tbody tr th {\n",
       "        vertical-align: top;\n",
       "    }\n",
       "\n",
       "    .dataframe thead th {\n",
       "        text-align: right;\n",
       "    }\n",
       "</style>\n",
       "<table border=\"1\" class=\"dataframe\">\n",
       "  <thead>\n",
       "    <tr style=\"text-align: right;\">\n",
       "      <th></th>\n",
       "      <th>pid</th>\n",
       "      <th>user</th>\n",
       "      <th>date</th>\n",
       "      <th>file</th>\n",
       "    </tr>\n",
       "  </thead>\n",
       "  <tbody>\n",
       "    <tr>\n",
       "      <td>0</td>\n",
       "      <td>163314316</td>\n",
       "      <td>hrhino</td>\n",
       "      <td>2018-01-16 23:29:16+00:00</td>\n",
       "      <td>test/files/pos/t5638/Among.java</td>\n",
       "    </tr>\n",
       "    <tr>\n",
       "      <td>1</td>\n",
       "      <td>163314316</td>\n",
       "      <td>hrhino</td>\n",
       "      <td>2018-01-16 23:29:16+00:00</td>\n",
       "      <td>test/files/pos/t5638/Usage.scala</td>\n",
       "    </tr>\n",
       "    <tr>\n",
       "      <td>2</td>\n",
       "      <td>163314316</td>\n",
       "      <td>hrhino</td>\n",
       "      <td>2018-01-16 23:29:16+00:00</td>\n",
       "      <td>test/files/pos/t9291.scala</td>\n",
       "    </tr>\n",
       "    <tr>\n",
       "      <td>3</td>\n",
       "      <td>163314316</td>\n",
       "      <td>hrhino</td>\n",
       "      <td>2018-01-16 23:29:16+00:00</td>\n",
       "      <td>test/files/run/t8348.check</td>\n",
       "    </tr>\n",
       "    <tr>\n",
       "      <td>4</td>\n",
       "      <td>163314316</td>\n",
       "      <td>hrhino</td>\n",
       "      <td>2018-01-16 23:29:16+00:00</td>\n",
       "      <td>test/files/run/t8348/TableColumn.java</td>\n",
       "    </tr>\n",
       "  </tbody>\n",
       "</table>\n",
       "</div>"
      ],
      "text/plain": [
       "         pid    user                      date  \\\n",
       "0  163314316  hrhino 2018-01-16 23:29:16+00:00   \n",
       "1  163314316  hrhino 2018-01-16 23:29:16+00:00   \n",
       "2  163314316  hrhino 2018-01-16 23:29:16+00:00   \n",
       "3  163314316  hrhino 2018-01-16 23:29:16+00:00   \n",
       "4  163314316  hrhino 2018-01-16 23:29:16+00:00   \n",
       "\n",
       "                                    file  \n",
       "0        test/files/pos/t5638/Among.java  \n",
       "1       test/files/pos/t5638/Usage.scala  \n",
       "2             test/files/pos/t9291.scala  \n",
       "3             test/files/run/t8348.check  \n",
       "4  test/files/run/t8348/TableColumn.java  "
      ]
     },
     "execution_count": 10,
     "metadata": {},
     "output_type": "execute_result"
    }
   ],
   "source": [
    "data = pd.merge(pulls, pull_files, on='pid')\n",
    "\n",
    "data.head()"
   ]
  },
  {
   "cell_type": "markdown",
   "metadata": {},
   "source": [
    "### ¿Se encuentra actualmente mantenido el proyecto?\n",
    "La actividad en un proyecto de código abierto no es muy consistente. Algunos proyectos pueden estar activos durante muchos años después del lanzamiento inicial, mientras que otros pueden ir disminuyendo lentamente hacia el olvido. Antes de comprometerse a contribuir a un proyecto, es importante comprender el estado del proyecto. ¿El desarrollo avanza constantemente o hay una caída? ¿Se ha abandonado el proyecto por completo?\n",
    "\n",
    "Los datos utilizados en este proyecto se recopilaron en enero de 2018. Estamos interesados en la evolución del número de contribuciones hasta esa fecha.\n",
    "\n",
    "Para Scala, haremos esto trazando un gráfico de la actividad del proyecto. Calcularemos el número de pull request enviadas cada mes (calendario) durante la vida útil del proyecto. Luego trazaremos estos números para ver la tendencia de las contribuciones."
   ]
  },
  {
   "cell_type": "code",
   "execution_count": 32,
   "metadata": {},
   "outputs": [
    {
     "data": {
      "text/plain": [
       "<matplotlib.axes._subplots.AxesSubplot at 0x1cbf6e70e88>"
      ]
     },
     "execution_count": 32,
     "metadata": {},
     "output_type": "execute_result"
    },
    {
     "data": {
      "image/png": "[encoded data removed]",
      "text/plain": [
       "<Figure size 1224x576 with 1 Axes>"
      ]
     },
     "metadata": {
      "needs_background": "light"
     },
     "output_type": "display_data"
    }
   ],
   "source": [
    "%matplotlib inline\n",
    "\n",
    "# Agrupamos por mes y contamos las pull request al final del mismo\n",
    "counts = pulls.groupby(pulls.date.dt.strftime('%Y-%m')).count()['pid']\n",
    "\n",
    "# Graficamos\n",
    "counts.plot(kind='bar', figsize=[17, 8])"
   ]
  },
  {
   "cell_type": "markdown",
   "metadata": {},
   "source": [
    "### ¿Hay camaradería en el proyecto?\n",
    "La estructura organizacional varía de un proyecto a otro, y puede influir en el éxito como contribuyente. Un proyecto que tiene una comunidad muy pequeña podría no ser la mejor opción para comenzar a trabajar, ya que esto podría significar una alta barrera de entrada debido a varios factores, como por ejemplo, que dicha comunidad sea reacia a aceptar pull requests de \"personas ajenas\", con las que es difícil trabajar con la base del código, etc. Sin embargo, una comunidad grande puede servir como un indicador de que el proyecto está abierto a aceptar requests de nuevos contribuyentes. Esos proyectos serían un mejor lugar para comenzar.\n",
    "\n",
    "Para evaluar la dinámica de la comunidad, trazaremos un histograma del número de pull requests enviadas por cada usuario. Una distribución que muestre que hay pocas personas contribuyendo solo con un pequeño número de pull requests se podría utilizar como un indicador de que el proyecto no acepta nuevos contribuyentes."
   ]
  },
  {
   "cell_type": "code",
   "execution_count": 58,
   "metadata": {},
   "outputs": [
    {
     "data": {
      "text/plain": [
       "user\n",
       "retronym     1030\n",
       "xeno-by       477\n",
       "adriaanm      474\n",
       "paulp         440\n",
       "som-snytt     376\n",
       "             ... \n",
       "larsrh          1\n",
       "lastland        1\n",
       "lexspoon        1\n",
       "lifuhuang       1\n",
       "0xmohit         1\n",
       "Name: pid, Length: 467, dtype: int64"
      ]
     },
     "execution_count": 58,
     "metadata": {},
     "output_type": "execute_result"
    }
   ],
   "source": [
    "# Agrupamos por usuario y contamos cantidad de contribuciones\n",
    "by_user = pulls.groupby('user').count()['pid'].sort_values(ascending=False)\n",
    "by_user"
   ]
  },
  {
   "cell_type": "code",
   "execution_count": 62,
   "metadata": {},
   "outputs": [
    {
     "data": {
      "image/png": "[encoded data removed]",
      "text/plain": [
       "<Figure size 1224x576 with 1 Axes>"
      ]
     },
     "metadata": {
      "needs_background": "light"
     },
     "output_type": "display_data"
    }
   ],
   "source": [
    "# Graficamos el histograma\n",
    "ax = by_user.hist(figsize=[17,8])\n",
    "\n",
    "# Aplicamos escala logaritmica en y para observar mejor los valores\n",
    "ax.set_yscale(\"log\")"
   ]
  },
  {
   "cell_type": "markdown",
   "metadata": {},
   "source": [
    "Podemos observar que en este proyecto un grupo reducido de usuarios hace una gran cantidad de contribuciones, pero a su vez existe una gran cantidad de usuarios aportando una cantidad menor de contribuciones al código."
   ]
  },
  {
   "cell_type": "markdown",
   "metadata": {},
   "source": [
    "### ¿Qué archivos fueron modificados en los últimos 10 pull requests?\n",
    "Elegir el lugar correcto para hacer una contribución es tan importante como elegir el proyecto al que contribuir. Algunas partes del código pueden ser estables, algunas pueden estar muertas. Contribuir allí podría no tener el mayor impacto. Por lo tanto, es importante comprender las partes del sistema que se han cambiado recientemente. Esto nos permite identificar las áreas \"calientes\" del código donde está ocurriendo la mayor parte de la actividad. Centrarse en esas partes podría no ser el uso más efectivo de nuestro tiempo."
   ]
  },
  {
   "cell_type": "code",
   "execution_count": 72,
   "metadata": {},
   "outputs": [
    {
     "name": "stdout",
     "output_type": "stream",
     "text": [
      "LICENSE\n",
      "doc/LICENSE.md\n",
      "doc/License.rtf\n",
      "project/VersionUtil.scala\n",
      "src/compiler/scala/reflect/reify/phases/Calculate.scala\n",
      "src/compiler/scala/tools/nsc/backend/jvm/BCodeHelpers.scala\n",
      "src/compiler/scala/tools/nsc/backend/jvm/PostProcessor.scala\n",
      "src/compiler/scala/tools/nsc/backend/jvm/analysis/BackendUtils.scala\n",
      "src/compiler/scala/tools/nsc/profile/AsyncHelper.scala\n",
      "src/compiler/scala/tools/nsc/profile/Profiler.scala\n",
      "src/compiler/scala/tools/nsc/symtab/classfile/ClassfileParser.scala\n",
      "src/compiler/scala/tools/nsc/typechecker/Contexts.scala\n",
      "src/library/scala/Predef.scala\n",
      "src/library/scala/concurrent/Lock.scala\n",
      "src/library/scala/util/Properties.scala\n",
      "src/reflect/scala/reflect/internal/pickling/ByteCodecs.scala\n",
      "src/reflect/scala/reflect/internal/tpe/GlbLubs.scala\n",
      "src/scaladoc/scala/tools/nsc/doc/html/page/Entity.scala\n",
      "src/scalap/decoder.properties\n",
      "test/files/neg/leibniz-liskov.check\n",
      "test/files/neg/leibniz-liskov.scala\n",
      "test/files/pos/leibniz-liskov.scala\n",
      "test/files/pos/leibniz_liskov.scala\n",
      "test/files/pos/parallel-classloader.scala\n",
      "test/files/pos/t10568/Converter.java\n",
      "test/files/pos/t10568/Impl.scala\n",
      "test/files/pos/t10686.scala\n",
      "test/files/pos/t5638/Among.java\n",
      "test/files/pos/t5638/Usage.scala\n",
      "test/files/pos/t9291.scala\n",
      "test/files/run/t8348.check\n",
      "test/files/run/t8348/TableColumn.java\n",
      "test/files/run/t8348/TableColumnImpl.java\n",
      "test/files/run/t8348/Test.scala\n"
     ]
    }
   ],
   "source": [
    "# Ultimos 10 pull requests\n",
    "last_10 = pulls.sort_values('date').tail(10)\n",
    "\n",
    "# Cruzamos con pull_files para saber cuales son los archivos afectados por esos PR\n",
    "joined_pr = pd.merge(last_10, pull_files, on='pid')\n",
    "\n",
    "# Identificamos archivos afectados\n",
    "files = joined_pr['file'].unique()\n",
    "\n",
    "for filename in sorted(files):\n",
    "    print(filename)"
   ]
  },
  {
   "cell_type": "markdown",
   "metadata": {},
   "source": [
    "### ¿Quién realizó la mayor cantidad de pull requests sobre un determinado archivo?\n",
    "Al contribuir a un proyecto, podríamos necesitar alguna orientación. Es posible que necesitemos información sobre el código base. Es importante dirigir cualquier pregunta a la persona adecuada. Los contribuyentes a proyectos de código abierto generalmente tienen otros trabajos diarios, por lo que su tiempo es limitado. Es importante dirigir nuestras preguntas a las personas adecuadas. Una forma de identificar el objetivo correcto para nuestras consultas es utilizando su historial de contribuciones.\n",
    "\n",
    "Identificamos `src/compiler/scala/reflect/reify/phase/Calculate.scala` como un archivo cambiado recientemente. Nos interesaremos en los 3 principales desarrolladores que cambiaron ese archivo. Esos desarrolladores son los más propensos a tener la mejor comprensión del código."
   ]
  },
  {
   "cell_type": "code",
   "execution_count": 74,
   "metadata": {},
   "outputs": [
    {
     "data": {
      "text/plain": [
       "9     xeno-by\n",
       "6    retronym\n",
       "7         soc\n",
       "Name: user, dtype: object"
      ]
     },
     "execution_count": 74,
     "metadata": {},
     "output_type": "execute_result"
    }
   ],
   "source": [
    "# Este es el archivo que nos interesa\n",
    "file = 'src/compiler/scala/reflect/reify/phases/Calculate.scala'\n",
    "\n",
    "# Identificamos los commits que modificaron el archivo\n",
    "file_pr = pull_files[pull_files['file'] == file]\n",
    "\n",
    "# Contamos el numero de cambios realizado al archivo por cada desarrollador y lo ordenamos descendentemente\n",
    "author_counts = pd.merge(file_pr, pulls, on='pid').groupby('user').count().reset_index().sort_values('pid', ascending=False)\n",
    "\n",
    "# Top 3 desarrolladores\n",
    "author_counts['user'].head(3)"
   ]
  },
  {
   "cell_type": "markdown",
   "metadata": {},
   "source": [
    "### ¿Quienes realizaron los últimos 10 pull requests sobre un determinado archivo?\n",
    "Los proyectos de código abierto sufren de membresía fluctuante. Esto hace que el problema de encontrar a la persona adecuada sea más desafiante: la persona tiene que estar bien informada y aún estar involucrada en el proyecto. Es posible que una persona que contribuyó mucho en el pasado ya no esté disponible (o dispuesta) a ayudar. Para obtener una mejor comprensión, necesitamos investigar la historia más reciente de esa parte particular del sistema.\n",
    "\n",
    "Al igual que antes, veremos el historial de `src/compiler/scala/reflect/reify/phase/Calculate.scala`.\n"
   ]
  },
  {
   "cell_type": "code",
   "execution_count": 76,
   "metadata": {},
   "outputs": [
    {
     "name": "stdout",
     "output_type": "stream",
     "text": [
      "bjornregnell\n",
      "retronym\n",
      "soc\n",
      "starblood\n",
      "xeno-by\n",
      "zuvizudar\n"
     ]
    }
   ],
   "source": [
    "file = 'src/compiler/scala/reflect/reify/phases/Calculate.scala'\n",
    "\n",
    "# Pull Requests que cambiaron el archivo\n",
    "file_pr = pull_files[pull_files['file'] == file]\n",
    "\n",
    "# Cruzamos con pulls para obtener los usuarios que realizaron esos PR\n",
    "joined_pr = pd.merge(file_pr, pulls, on='pid')\n",
    "\n",
    "# Usuarios que realizaron los últimos 10 pull requests\n",
    "users_last_10 = joined_pr.nlargest(10, 'date')['user'].unique()\n",
    "\n",
    "for user in sorted(users_last_10):\n",
    "    print(user)"
   ]
  },
  {
   "cell_type": "markdown",
   "metadata": {},
   "source": [
    "### Los pull requests de dos usuarios en particular\n",
    "Ahora que hemos identificado dos contactos potenciales en el proyecto, necesitamos encontrar a la persona que estuvo más involucrada en el mismo en los últimos tiempos. Es más probable que esa persona responda nuestras preguntas. Para cada año calendario, estamos interesados en comprender la cantidad de pull requests que realizaron los autores. Esto nos dará una idea a grandes rasgos de su tendencia de contribución al proyecto."
   ]
  },
  {
   "cell_type": "code",
   "execution_count": 79,
   "metadata": {},
   "outputs": [
    {
     "data": {
      "text/plain": [
       "<matplotlib.axes._subplots.AxesSubplot at 0x1cbfa3f8948>"
      ]
     },
     "execution_count": 79,
     "metadata": {},
     "output_type": "execute_result"
    },
    {
     "data": {
      "image/png": "[encoded data removed]",
      "text/plain": [
       "<Figure size 1224x576 with 1 Axes>"
      ]
     },
     "metadata": {
      "needs_background": "light"
     },
     "output_type": "display_data"
    }
   ],
   "source": [
    "# Nos centraremos en estos dos usuarios\n",
    "authors = ['xeno-by', 'soc']\n",
    "\n",
    "# Obtenemos todos los pull requests de estos usuarios\n",
    "by_author = pulls[pulls['user'].isin(authors)]\n",
    "\n",
    "# Contamos los PR realizados cada año\n",
    "counts = by_author.groupby(['user', by_author.date.dt.year]).agg({'pid': 'count'}).reset_index()\n",
    "\n",
    "# Convertimos la tabla a formato ancho\n",
    "counts_wide = counts.pivot_table(index='date', columns='user', values='pid', fill_value=0)\n",
    "\n",
    "# Graficamos los resultados\n",
    "counts_wide.plot(kind='bar', figsize=[17,8])"
   ]
  },
  {
   "cell_type": "markdown",
   "metadata": {},
   "source": [
    "### Visualizando las contribuciones de cada desarrollador\n",
    "Como se mencionó anteriormente, es importante hacer una distinción entre la experiencia global y los niveles de contribución y los niveles de contribución a un nivel más granular (archivo, submódulo, etc.). En nuestro caso, queremos ver cuál de nuestros dos desarrolladores de interés tiene la mayor experiencia con el código en un archivo determinado. Mediremos la experiencia según la cantidad de pull requests enviadas que afectan a ese archivo y qué tan recientes se enviaron."
   ]
  },
  {
   "cell_type": "code",
   "execution_count": 80,
   "metadata": {},
   "outputs": [
    {
     "data": {
      "text/plain": [
       "<matplotlib.axes._subplots.AxesSubplot at 0x1cbf9a57f48>"
      ]
     },
     "execution_count": 80,
     "metadata": {},
     "output_type": "execute_result"
    },
    {
     "data": {
      "image/png": "[encoded data removed]",
      "text/plain": [
       "<Figure size 1224x576 with 1 Axes>"
      ]
     },
     "metadata": {
      "needs_background": "light"
     },
     "output_type": "display_data"
    }
   ],
   "source": [
    "authors = ['xeno-by', 'soc']\n",
    "file = 'src/compiler/scala/reflect/reify/phases/Calculate.scala'\n",
    "\n",
    "# Pull requests enviados por los usuarios de interés\n",
    "by_author = data[data['user'].isin(authors)]\n",
    "\n",
    "# Nos quedamos solo con los que afectaron al archivo de interés\n",
    "by_file = by_author[by_author['file'] == file]\n",
    "\n",
    "# Agrupamos y contamos el número de PR realizados cada año\n",
    "grouped = by_file.groupby(['user', by_file['date'].dt.year]).count()['pid'].reset_index()\n",
    "\n",
    "# Transformamos la tabla a formato ancho\n",
    "by_file_wide = grouped.pivot_table(index='date', columns='user', values='pid', fill_value=0)\n",
    "\n",
    "# Graficamos los resultados\n",
    "by_file_wide.plot(kind='bar', figsize=[17, 8])"
   ]
  },
  {
   "cell_type": "markdown",
   "metadata": {},
   "source": [
    "### Conclusión\n",
    "A lo largo de este informe hemos aprendido no solo un poco del historial de cambios del Lenguaje Scala, sino también una forma de evaluar proyectos Open Source para encontrar la mejor manera de comenzar a contribuir código en Github u otras plataformas de crowdsourcing. "
   ]
  }
 ],
 "metadata": {
  "kernelspec": {
   "display_name": "Python 3",
   "language": "python",
   "name": "python3"
  },
  "language_info": {
   "codemirror_mode": {
    "name": "ipython",
    "version": 3
   },
   "file_extension": ".py",
   "mimetype": "text/x-python",
   "name": "python",
   "nbconvert_exporter": "python",
   "pygments_lexer": "ipython3",
   "version": "3.7.4"
  }
 },
 "nbformat": 4,
 "nbformat_minor": 2
}
